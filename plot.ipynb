import matplotlib.pyplot as plt
import pandas as pd

data = pd.read_csv('istherecorrelation.csv',sep=";")
data.head()

df = pd.DataFrame(data)
col_one = df['Year'].tolist()
col_two = df['WO [x1000]'].tolist()
col_three = df['NL Beer consumption [x1000 hectoliter]'].tolist()

plt.plot(col_one,col_three)
plt.xlabel('Years')
plt.ylabel('NL Beer consumption [x1000 hectoliter] ')
